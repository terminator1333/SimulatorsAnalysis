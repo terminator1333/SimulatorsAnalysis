{
  "cells": [
    {
      "cell_type": "markdown",
      "source": [
        "# Welcome to a visual simulator of the second problem!\n",
        "\n",
        "\n",
        "*   In this Simulator you can simulate your intersections problem, to see how it works using graphing libraries\n",
        "*   Insert your intersections function (without the self argument) and see how well your estimator works\n",
        "*This simulator is an upgraded version of the tests that can be run in the assignment\n",
        "*Please download a copy of this script so that the original won't be altered\n"
      ],
      "metadata": {
        "id": "64DrJb0_sj42"
      }
    },
    {
      "cell_type": "markdown",
      "source": [
        "##Importing Libraries, run but do not touch"
      ],
      "metadata": {
        "id": "J68cjCIF2sZu"
      }
    },
    {
      "cell_type": "code",
      "source": [
        "import matplotlib.pyplot as plt\n",
        "import numpy as np\n",
        "import timeit"
      ],
      "metadata": {
        "id": "GBbZDX-7tgPW"
      },
      "execution_count": null,
      "outputs": []
    },
    {
      "cell_type": "markdown",
      "source": [
        "##Insert your intersection function here ⬇"
      ],
      "metadata": {
        "id": "8UOt9K0etccC"
      }
    },
    {
      "cell_type": "code",
      "source": [
        "def intersections(f1: callable, f2: callable, a: float, b: float, maxerr=0.001):\n",
        "    \"\"\"\n",
        "    Insert your intersections function here. Make sure you dont just copy paste as this is not the inside of a class, therefore the functions shouldn't receive a\n",
        "    self argument. also no need to add the ->Iterable\n",
        "    \"\"\"\n",
        "    return None"
      ],
      "metadata": {
        "id": "n9zXVhOqsaPc"
      },
      "execution_count": null,
      "outputs": []
    },
    {
      "cell_type": "markdown",
      "source": [
        "##After inserting your intersections function, run this code to visually see your function's outcomes"
      ],
      "metadata": {
        "id": "VOHYMeg1tgZp"
      }
    },
    {
      "cell_type": "code",
      "execution_count": null,
      "metadata": {
        "id": "zwFnJsE6vjf8"
      },
      "outputs": [],
      "source": [
        "\n",
        "\n",
        "barrier_a = -1 #barriers for the function, change this to change the barrier your function and the graph plotter receives\n",
        "barrier_b = 1\n",
        "\"This function is the function from the tests:\"\n",
        "def randomIntersectingPolynomials(deg):\n",
        "    \"\"\"\n",
        "    Generates two polynomials of degree deg such that the first and last coefficients have opposite signs.\n",
        "    [-,...,+]\n",
        "    [+,...,-]\n",
        "    Deg must be even. If deg is even, such polynomials intersect in at least two points.\n",
        "    \"\"\"\n",
        "    # Note: adding/subtracting 0.001 in the code below is a patch to avoid rare cases of zero coefficients\n",
        "\n",
        "    assert (deg % 2 == 0)\n",
        "    a1 = np.random.randn(deg + 1)\n",
        "    a1[0] = abs(a1[0]) + 0.001\n",
        "    a1[-1] = -1 * abs(a1[-1]) - 0.001\n",
        "    f1 = np.poly1d(a1)\n",
        "    assert (f1(0) < 0)\n",
        "\n",
        "    a2 = np.random.randn(deg + 1)\n",
        "    a2[0] = -1 * abs(a2[0]) - 0.001\n",
        "    a2[-1] = abs(a2[-1]) + 0.001\n",
        "    f2 = np.poly1d(a2)\n",
        "    assert (f2(0) > 0)\n",
        "\n",
        "    return f1, f2\n",
        "\n",
        "\n",
        "\n",
        "f1, f2 = randomIntersectingPolynomials(10) #receiving the 2 functions\n",
        "\n",
        "\n",
        "try:\n",
        "  start=timeit.timeit() #starting timeer\n",
        "  intersection_points = intersections(f1, f2, barrier_a, barrier_b, maxerr=0.001) #calling the inserted intersection function to test and printing the results\n",
        "  intersection_points=sorted(intersection_points)\n",
        "  end=timeit.timeit() #ending timer\n",
        "  print(f\"Time it took function: {abs(start-end)} seconds\") #printing how much time it took the function (could be different time in reality as this is google colab)\n",
        "\n",
        "  print(\"\")\n",
        "  for point in range(len(intersection_points)): #printing all received points\n",
        "    print(f\"Your returned point No.{point+1}: {intersection_points[point]}\",end=\" \")\n",
        "\n",
        "except:\n",
        "  print(\"Something is wrong with the function\") #incase smth is wrong with the function, exit the code\n",
        "  exit()\n",
        "print(\"\")\n",
        "print(\"\")\n",
        "\n",
        "roots = np.roots(f1 - f2) #calculating the actual roots\n",
        "roots = roots[np.isreal(roots)].real #eliminating complex roots\n",
        "roots = [root for root in roots if root<barrier_b and root>barrier_a] #eliminating all\n",
        "roots = sorted(roots )\n",
        "for root in range(len(roots)):\n",
        "  print(f\"Actual Root No.{root+1}: {roots[root]}\",end=\" \")\n",
        "\n",
        "\n",
        "x = np.linspace(barrier_a, barrier_b, 500) #creating the graph\n",
        "y1 = f1(x) #first line to draw is the first function\n",
        "y2 = f2(x) #second line will be second function\n",
        "y3 = f1(x) - f2(x) #third line will be the subtraction, as when this function is 0 we have an intersection\n",
        "\n",
        "plt.figure(figsize=(10, 6)) #standard things to make the graph\n",
        "plt.plot(x, y1, label=\"f1(x)\", color=\"blue\")\n",
        "plt.plot(x, y2, label=\"f2(x)\", color=\"red\")\n",
        "plt.plot(x, y3, label=\"f1(x) - f2(x)\", color=\"black\", linestyle=\"--\")\n",
        "\n",
        "#plotting the interesection points\n",
        "done_label_green=False\n",
        "for x in intersection_points:\n",
        "    # If intersection_points only gives x-values\n",
        "    if(not done_label_green):\n",
        "      plt.scatter(x, f1(x), color=\"green\", label=\"Guessed root\", zorder=5)\n",
        "      done_label_green=True\n",
        "    else:\n",
        "      plt.scatter(x, f1(x), color=\"green\", zorder=5)\n",
        "\n",
        "#plotting the acutal intersection points\n",
        "done_label_orange=False\n",
        "for root in roots:\n",
        "    if(root<1 and root>-1):\n",
        "      if(not done_label_orange):\n",
        "        plt.axvline(x=root, color=\"orange\", linestyle=\"--\", label=\"Actual root\", zorder=4)\n",
        "        done_label_orange=True\n",
        "      else:\n",
        "        plt.axvline(x=root, color=\"orange\", linestyle=\"--\", zorder=4)\n",
        "\n",
        "print(\"\")\n",
        "print(\"\")\n",
        "print(\"\")\n",
        "\n",
        "#adding the labels, grids and whatnot\n",
        "plt.axhline(0, color=\"black\", linewidth=0.8, linestyle=\"--\")  #for the x axis\n",
        "plt.axvline(0, color=\"black\", linewidth=0.8, linestyle=\"--\")  #for the y axis\n",
        "plt.xlabel(\"x\")\n",
        "plt.ylabel(\"f(x)\")\n",
        "plt.title(\"Simulator for Question 2: \")\n",
        "plt.legend(loc=\"best\")\n",
        "plt.grid()\n",
        "\n",
        "#finally, showing the plot\n",
        "plt.show()\n"
      ]
    }
  ],
  "metadata": {
    "colab": {
      "provenance": []
    },
    "kernelspec": {
      "display_name": "Python 3",
      "name": "python3"
    }
  },
  "nbformat": 4,
  "nbformat_minor": 0
}
