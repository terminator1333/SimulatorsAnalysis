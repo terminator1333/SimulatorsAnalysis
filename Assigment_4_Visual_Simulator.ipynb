{
  "nbformat": 4,
  "nbformat_minor": 0,
  "metadata": {
    "colab": {
      "provenance": [],
      "collapsed_sections": [
        "3XeEslgUHLtz",
        "w8Rw6aR8ZemF",
        "0Wlx_7ytZgVq",
        "QCV9JrmIZtiU",
        "a2ImQ2LoZx-L",
        "qOPapZz-Z3CA"
      ]
    },
    "kernelspec": {
      "name": "python3",
      "display_name": "Python 3"
    },
    "language_info": {
      "name": "python"
    }
  },
  "cells": [
    {
      "cell_type": "markdown",
      "source": [
        "# Welcome to a visual simulator of the fourth problem!\n",
        "\n",
        "\n",
        "*   In this Simulator you can simulate your fitting problem, to see how it works using graphing libraries\n",
        "*   Insert your fitting function (without the self argument) and see how well your estimator works\n",
        "*This simulator is an upgraded version of the tests that can be run in the assignment\n",
        "*Please download a copy of this script so that the original won't be altered\n"
      ],
      "metadata": {
        "id": "3XeEslgUHLtz"
      }
    },
    {
      "cell_type": "markdown",
      "source": [
        "##Import the necessary libraries:"
      ],
      "metadata": {
        "id": "w8Rw6aR8ZemF"
      }
    },
    {
      "cell_type": "code",
      "execution_count": null,
      "metadata": {
        "id": "NR3yqSXCHBM1"
      },
      "outputs": [],
      "source": [
        "import numpy as np\n",
        "import time\n",
        "import matplotlib.pyplot as plt\n",
        "from sklearn.metrics import mean_squared_error"
      ]
    },
    {
      "cell_type": "markdown",
      "source": [
        "##Insert your fitting function here ⬇"
      ],
      "metadata": {
        "id": "0Wlx_7ytZgVq"
      }
    },
    {
      "cell_type": "code",
      "source": [
        "def fit(f: callable, a: float, b: float, d: int, maxtime: float) -> callable:\n",
        "    \"\"\"\n",
        "    Insert your fit function in here, without self parameter\n",
        "    \"\"\"\n",
        "    return lambda x:x"
      ],
      "metadata": {
        "id": "8Wl5Ak-KKwzj"
      },
      "execution_count": null,
      "outputs": []
    },
    {
      "cell_type": "markdown",
      "source": [
        "##Run this:"
      ],
      "metadata": {
        "id": "QCV9JrmIZtiU"
      }
    },
    {
      "cell_type": "code",
      "source": [
        "def NOISY(noise):\n",
        "    \"\"\"\n",
        "    The NOISY function from the tests but with added feature of receiving array in the decorate function\n",
        "    \"\"\"\n",
        "    def decorate(function):\n",
        "        def wrapper(*args, **kwargs):\n",
        "            result = function(*args, **kwargs)\n",
        "            if isinstance(result, np.ndarray): #for array\n",
        "                result += np.random.randn(*result.shape) * noise\n",
        "            else: #for single value\n",
        "                result += np.random.randn() * noise\n",
        "            return result\n",
        "        return wrapper\n",
        "    return decorate\n",
        "\n",
        "def test_fit(fit_function, true_function, a, b, d, maxtime, num_points=100, noise_level=0.3,func_name=\"\"):\n",
        "    \"\"\"\n",
        "    A function to call the noisy data, the fitting function and plotting/printing the results\n",
        "    \"\"\"\n",
        "    x=np.linspace(a,b,num_points)\n",
        "    noisy_func = NOISY(noise_level)(true_function)\n",
        "    y=noisy_func(x)\n",
        "    start_time = time.time() #timing the function\n",
        "    fitted_model = fit_function(noisy_func, a, b, d, maxtime) #the fit function is the created fitting function\n",
        "    elapsed_time = time.time() - start_time\n",
        "    fitted_y = fitted_model(x) #getting all values, to calculate mse\n",
        "    mse = mean_squared_error(y, fitted_y) #calculating mse\n",
        "\n",
        "    #printing some data\n",
        "    print()\n",
        "    print(\"=\"*50)\n",
        "    print()\n",
        "    print()\n",
        "    print(f\"Time taken by function: {elapsed_time:.4f} seconds\")\n",
        "    print()\n",
        "    print(\"=\"*50)\n",
        "    print()\n",
        "    print()\n",
        "    print(f\"MSE on points: {mse:.4f}\")\n",
        "    print()\n",
        "\n",
        "    print(\"=\"*50)\n",
        "    print()\n",
        "    print()\n",
        "    print(f\"Actual Function: {func_name}\")\n",
        "    print()\n",
        "    print()\n",
        "\n",
        "    #finally, plotting everything\n",
        "    plt.figure(figsize=(10, 6))\n",
        "    plt.scatter(x, y, color='blue', label='Noisy Data', alpha=0.5)\n",
        "    plt.plot(x, fitted_y, color='red', label='Fitted Model')\n",
        "    plt.legend()\n",
        "    plt.title(f\"{func_name} fitting, noise level = {noise_level}, num points = {num_points}\")\n",
        "    plt.xlabel('x')\n",
        "    plt.ylabel('y')\n",
        "    plt.show()"
      ],
      "metadata": {
        "id": "8Z9OzijIVNZv"
      },
      "execution_count": null,
      "outputs": []
    },
    {
      "cell_type": "markdown",
      "source": [
        "##Test this simple case:"
      ],
      "metadata": {
        "id": "a2ImQ2LoZx-L"
      }
    },
    {
      "cell_type": "code",
      "source": [
        "def true_function(x):\n",
        "    return np.sin(2 * np.pi * x)\n",
        "#some parameters for simple example\n",
        "a, b = 0, 2\n",
        "d = 20\n",
        "maxtime = 5.0\n",
        "noise_level = 0.3\n",
        "\n",
        "# Run the test\n",
        "test_fit(fit, true_function, a, b, d, maxtime, num_points=100, noise_level=noise_level,func_name=\"sin(2*pi*x)\")"
      ],
      "metadata": {
        "id": "sBNud3T3KpR-"
      },
      "execution_count": null,
      "outputs": []
    },
    {
      "cell_type": "markdown",
      "source": [
        "##Test these tough cases (from the grader file )"
      ],
      "metadata": {
        "id": "qOPapZz-Z3CA"
      }
    },
    {
      "cell_type": "markdown",
      "source": [
        "###The other functions and their parameters"
      ],
      "metadata": {
        "id": "wQITzXVJaAA2"
      }
    },
    {
      "cell_type": "code",
      "source": [
        "def other_test_cases_from_grader(called_func, x):\n",
        "    if called_func == 1:\n",
        "        return (pow(x, 2) - 3 * x + 2,0, 5, 10, 5,\"x^2-3*x+2\")\n",
        "    elif called_func == 2:\n",
        "        return (pow(np.e, -2 * pow(x, 2)), -2, 4, 20, 10,\"e^(-2x^2)\")\n",
        "    elif called_func == 3:\n",
        "        return (np.sin(pow(x, 2)), -1, 5, 50, 20,\"sin(x^2)\")\n",
        "    elif called_func == 4:\n",
        "        return (5 * pow(x, 2) - 10 * x + 1, 3, 10, 20, 15,\"5*x^2-10x\")\n",
        "    elif called_func == 5:\n",
        "        return (1 / np.log(x), 3, 16, 10, 10,\"1/ln(x)\")\n",
        "    elif called_func == 6:\n",
        "        return (pow(np.e, pow(np.e, x)), 1, 3, 10, 15,\"e^(e^x)\")\n",
        "    elif called_func == 7:\n",
        "        return (np.log(np.log(x)), 5, 10, 10, 20,\"ln(ln(x))\")"
      ],
      "metadata": {
        "id": "MCeA34G8MG-Y"
      },
      "execution_count": null,
      "outputs": []
    },
    {
      "cell_type": "markdown",
      "source": [
        "###Calling each one"
      ],
      "metadata": {
        "id": "xWNatH9QaEVk"
      }
    },
    {
      "cell_type": "code",
      "source": [
        "for case_id in range(1, 7):\n",
        "    true_function = lambda x: other_test_cases_from_grader(case_id, x)[0]\n",
        "    a=other_test_cases_from_grader(case_id, 0)[1]\n",
        "    b=other_test_cases_from_grader(case_id, 0)[2]\n",
        "    d=other_test_cases_from_grader(case_id, 0)[3]\n",
        "    maxtime=other_test_cases_from_grader(case_id, 0)[4]\n",
        "    func_name=other_test_cases_from_grader(case_id, 0)[5]\n",
        "    noise_level=0.5 #pick your own value for testing\n",
        "    test_fit(fit, true_function, a, b, d, maxtime, num_points=100, noise_level=noise_level,func_name=func_name)"
      ],
      "metadata": {
        "id": "nEPHBf0FMLKr"
      },
      "execution_count": null,
      "outputs": []
    }
  ]
}
