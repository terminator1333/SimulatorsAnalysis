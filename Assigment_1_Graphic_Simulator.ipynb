{
  "cells": [
    {
      "cell_type": "markdown",
      "metadata": {
        "id": "i_EaNid3cju6"
      },
      "source": [
        "# Welcome to a visual simulator of the first problem!\n",
        "\n",
        "\n",
        "*   In this Simulator you can simulate your interpolation problem, to see how it works using graphing libraries\n",
        "*   Insert your interpolation function (without the self argument) and see how well your estimator works\n",
        "*This simulator is an upgraded version of the tests that can be run in the assignment\n",
        "*Please download a copy of this script so that the original won't be altered\n",
        "*This script was written by Eyal Lenga\n"
      ]
    },
    {
      "cell_type": "markdown",
      "metadata": {
        "id": "wPT7UeVhcvCx"
      },
      "source": [
        "##Importing Libraries, run but do not touch"
      ]
    },
    {
      "cell_type": "code",
      "execution_count": null,
      "metadata": {
        "id": "PptoUc2ucYyP"
      },
      "outputs": [
        {
          "ename": "",
          "evalue": "",
          "output_type": "error",
          "traceback": [
            "\u001b[1;31mRunning cells with 'Python 3.11.10' requires the ipykernel package.\n",
            "\u001b[1;31mRun the following command to install 'ipykernel' into the Python environment. \n",
            "\u001b[1;31mCommand: '/usr/local/bin/python3.11 -m pip install ipykernel -U --user --force-reinstall'"
          ]
        }
      ],
      "source": [
        "import matplotlib.pyplot as plt\n",
        "import numpy as np\n",
        "import time\n",
        "import timeit"
      ]
    },
    {
      "cell_type": "markdown",
      "metadata": {
        "id": "aOhdCW0AczWh"
      },
      "source": [
        "##Insert your interpolation function here ⬇"
      ]
    },
    {
      "cell_type": "code",
      "execution_count": null,
      "metadata": {
        "id": "mjSt-22Cczz7"
      },
      "outputs": [],
      "source": [
        "def interpolate(f: callable, a: float, b: float, n: int) -> callable:\n",
        "    \"\"\"\n",
        "\n",
        "    INSERT YOUR interpolate FUNCTION HERE\n",
        "\n",
        "    ***REMOVE self ARGUMENT***\n",
        "\n",
        "\n",
        "    \"\"\"\n",
        "    return lambda x: x"
      ]
    },
    {
      "cell_type": "markdown",
      "metadata": {
        "id": "UiI-1ZHmfLR9"
      },
      "source": [
        "##Run this:"
      ]
    },
    {
      "cell_type": "code",
      "execution_count": null,
      "metadata": {
        "id": "pntsw6R8SVx3"
      },
      "outputs": [],
      "source": [
        "def plot_interpolation_accuracy(original, interpolated, a, b, num_points=100, title=\"Interpolation Accuracy\"):\n",
        "    #plotting the interpolated+original+error functions\n",
        "    x_values = np.linspace(a, b, num_points) #num_points points evenly distribiuted on  range [a,b]\n",
        "    original_values = np.array([original(x) for x in x_values]) #a list of the original values\n",
        "    interpolated_values = np.array([interpolated(x) for x in x_values]) #a list of the interpolated values (calling the function that needs to be created)\n",
        "    errors = np.abs(original_values - interpolated_values) #the error function\n",
        "\n",
        "    plt.figure(figsize=(12, 7)) #size of plot\n",
        "    plt.plot(x_values,original_values,label=\"original function\",color=\"blue\",linewidth=2) #drawing original function\n",
        "    plt.plot(x_values,interpolated_values,label=\"interpolated function (your function)\", color=\"orange\", linestyle=\"--\", linewidth=2) #drawing interpolated function\n",
        "    plt.fill_between(x_values,0,errors,color=\"red\",alpha=0.3,label=\"error function\") #drawing the error function, with filling the area between the function and x axis\n",
        "    plt.title(title)#adding title\n",
        "    plt.xlabel(\"x\")#adding x axis name\n",
        "    plt.ylabel(\"y\")#adding y axis name\n",
        "    plt.legend()#adding legend\n",
        "    plt.grid(True)#enabling grind\n",
        "    plt.show()#showing the plot\n",
        "\n",
        "\n",
        "def print_interpolation_time_n_accuracy(a, b, original, interpolated):\n",
        "  #function to show data on interpolated function (runtime, mean errors)\n",
        "    xs = np.random.uniform(a,b,2000)#simulating 2000 points in the range\n",
        "    start_time = time.time()\n",
        "    errors = np.abs([original(x)-interpolated(x) for x in xs]) #calculating error\n",
        "    runtime = time.time()-start_time\n",
        "  #printing the data\n",
        "    mean_err = np.mean(errors)\n",
        "    print(\"=\"*50)\n",
        "    print(f\"interpolation evaluation runtime: {runtime} seconds\")\n",
        "    print(\"=\"*50)\n",
        "    print(f\"mean absolute error (estimated error function area): {mean_err*(b-a)}\") #printing the mean error for each point times the range, that should be around the area of the error\n",
        "    print(\"=\"*50+\"\\n\")\n"
      ]
    },
    {
      "cell_type": "markdown",
      "metadata": {
        "id": "70Fj6TbndAPp"
      },
      "source": [
        "##After inserting your interpolation function, run this code to visually see your function's outcomes"
      ]
    },
    {
      "cell_type": "code",
      "execution_count": null,
      "metadata": {
        "id": "Z3RYMfuGdDs-"
      },
      "outputs": [],
      "source": [
        "poly_coeffs = np.random.randn(20)\n",
        "original = np.poly1d(poly_coeffs)#random polynomial\n",
        "\n",
        "a = np.random.randint(-50, 50)#random range\n",
        "b = np.random.randint(51, 100)\n",
        "\n",
        "\n",
        "interpolation_time = timeit.timeit(lambda: interpolate(original,a,b,30), number=1) #checking interpolated function runtime\n",
        "\n",
        "interpolated = interpolate(original,a, b,30) #calling interpolation function\n",
        "\n",
        "print_interpolation_time_n_accuracy(a,b,original,interpolated)\n",
        "\n",
        "\n",
        "plot_interpolation_accuracy(original,interpolated,a,b,2000,title=\"Polynomial interpolation in random range\")"
      ]
    },
    {
      "cell_type": "markdown",
      "metadata": {
        "id": "wxBdot44Sh7A"
      },
      "source": [
        "##Some non linear interpolation tests"
      ]
    },
    {
      "cell_type": "markdown",
      "metadata": {
        "id": "xWrbBtpOk4O5"
      },
      "source": [
        "### Sin(x)"
      ]
    },
    {
      "cell_type": "code",
      "execution_count": null,
      "metadata": {
        "id": "nx2frLQFSmCK"
      },
      "outputs": [],
      "source": [
        "sine_ff = interpolate(np.sin,-10,10,100)#sin(x) function\n",
        "print_interpolation_time_n_accuracy(-10,10,np.sin,sine_ff)#interpolated function\n",
        "plot_interpolation_accuracy(np.sin,sine_ff,-10,10,2000,title=\"sin(x) function interpolation in range [-10,10]\")"
      ]
    },
    {
      "cell_type": "markdown",
      "metadata": {
        "id": "X95IIkV-k8O5"
      },
      "source": [
        "###tan(x)"
      ]
    },
    {
      "cell_type": "code",
      "execution_count": null,
      "metadata": {
        "id": "O4xTYAHmVvMk"
      },
      "outputs": [],
      "source": [
        "tan_f = np.tan  #tan(x) function\n",
        "tan_ff = interpolate(tan_f, -1.4, 1.4, 20)  #the interpolated function\n",
        "print_interpolation_time_n_accuracy(-1.4,1.4,tan_f,tan_ff)\n",
        "plot_interpolation_accuracy(tan_f, tan_ff, -1.4, 1.4, 2000, title=\"tan(x) function interpolation in range [-1.4,1.4]\")"
      ]
    },
    {
      "cell_type": "markdown",
      "metadata": {
        "id": "OIoDozI4k-sw"
      },
      "source": [
        "###log(x+11)"
      ]
    },
    {
      "cell_type": "code",
      "execution_count": null,
      "metadata": {
        "id": "PQrEz20ySsOW"
      },
      "outputs": [],
      "source": [
        "log_f = lambda x: np.log(x + 11)#log(x+11) function\n",
        "log_ff = interpolate(log_f, -10, 10, 20)  #the interpolated function\n",
        "print_interpolation_time_n_accuracy(-10,10,log_f,log_ff)\n",
        "plot_interpolation_accuracy(log_f, log_ff, -10, 10, 2000, title=\"log(x+11) function interpolation in range [-10,10]\")"
      ]
    }
  ],
  "metadata": {
    "colab": {
      "provenance": []
    },
    "kernelspec": {
      "display_name": "Python 3",
      "name": "python3"
    },
    "language_info": {
      "name": "python",
      "version": "3.11.10"
    }
  },
  "nbformat": 4,
  "nbformat_minor": 0
}
